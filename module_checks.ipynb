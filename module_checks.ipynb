{
 "cells": [
  {
   "cell_type": "code",
   "execution_count": 1,
   "metadata": {},
   "outputs": [],
   "source": [
    "from Download import *\n",
    "from Workflow import *\n",
    "from Cleanup import *\n",
    "import requests\n",
    "import subprocess\n",
    "\n",
    "import os\n",
    "import configparser\n",
    "import gzip"
   ]
  },
  {
   "cell_type": "code",
   "execution_count": 19,
   "metadata": {
    "collapsed": true
   },
   "outputs": [
    {
     "name": "stdout",
     "output_type": "stream",
     "text": [
      "try number 1\n",
      "trying to download ERR1081237\n",
      "ERR1081237exists false\n",
      "ERR1081237file doesnt exist\n"
     ]
    },
    {
     "data": {
      "text/plain": [
       "False"
      ]
     },
     "execution_count": 19,
     "metadata": {},
     "output_type": "execute_result"
    }
   ],
   "source": [
    "url = 'ERR1081237'\n",
    "address = \"/home/users/allstaff/bollands.c/scratch/bollands.c/Malaria_downloads/enaBrowserTools-0.0.3/enaBrowserTools-0.0.3/python3/enaDataGet.py\"\n",
    "\n",
    "download_then_check(url, address)"
   ]
  },
  {
   "cell_type": "code",
   "execution_count": 4,
   "metadata": {},
   "outputs": [],
   "source": [
    "config = configparser.ConfigParser()\n",
    "\n",
    "config.read('config.ini')\n",
    "\n",
    "\n",
    "ERRlist = config['ERRcodes']['list_location']\n",
    "column_name = config['ERRcodes']['column_name']\n",
    "address = config['ENAdataget']['enadataget_path']\n",
    "output_path = config['outputs']['ERR_output_path']\n",
    "logs = config['outputs']['log_outputs']\n",
    "download_path = config['DownloadLocation']['download_path']"
   ]
  },
  {
   "cell_type": "code",
   "execution_count": 34,
   "metadata": {},
   "outputs": [],
   "source": [
    "process = subprocess.run([\"python3\", address, \"-m\", f\"{url}\"], stdout=subprocess.PIPE,stderr=subprocess.PIPE) "
   ]
  },
  {
   "cell_type": "code",
   "execution_count": 35,
   "metadata": {
    "collapsed": true
   },
   "outputs": [
    {
     "data": {
      "text/plain": [
       "CompletedProcess(args=['python3', '/home/users/allstaff/bollands.c/scratch/bollands.c/Malaria_downloads/enaBrowserTools-0.0.3/enaBrowserTools-0.0.3/python3/enaDataGet.py', '-m', 'ERR1081237'], returncode=1, stdout=b'', stderr=b'Traceback (most recent call last):\\n  File \"/home/users/allstaff/bollands.c/scratch/bollands.c/Malaria_downloads/enaBrowserTools-0.0.3/enaBrowserTools-0.0.3/python3/enaDataGet.py\", line 24, in <module>\\n    import sequenceGet\\n  File \"/stornext/HPCScratch/home/bollands.c/Malaria_downloads/enaBrowserTools-0.0.3/enaBrowserTools-0.0.3/python3/sequenceGet.py\", line 23, in <module>\\n    import utils\\n  File \"/stornext/HPCScratch/home/bollands.c/Malaria_downloads/enaBrowserTools-0.0.3/enaBrowserTools-0.0.3/python3/utils.py\", line 29, in <module>\\n    import requests\\nModuleNotFoundError: No module named \\'requests\\'\\n')"
      ]
     },
     "execution_count": 35,
     "metadata": {},
     "output_type": "execute_result"
    }
   ],
   "source": [
    "process"
   ]
  },
  {
   "cell_type": "code",
   "execution_count": 9,
   "metadata": {
    "collapsed": true
   },
   "outputs": [
    {
     "data": {
      "text/plain": [
       "b''"
      ]
     },
     "execution_count": 9,
     "metadata": {},
     "output_type": "execute_result"
    }
   ],
   "source": [
    "process.stderr"
   ]
  },
  {
   "cell_type": "code",
   "execution_count": 23,
   "metadata": {
    "collapsed": true
   },
   "outputs": [
    {
     "name": "stdout",
     "output_type": "stream",
     "text": [
      "Collecting requests\n",
      "  Downloading https://files.pythonhosted.org/packages/92/96/144f70b972a9c0eabbd4391ef93ccd49d0f2747f4f6a2a2738e99e5adc65/requests-2.26.0-py2.py3-none-any.whl (62kB)\n",
      "\u001b[K    100% |████████████████████████████████| 71kB 5.1MB/s eta 0:00:01\n",
      "\u001b[?25hCollecting idna<4,>=2.5; python_version >= \"3\" (from requests)\n",
      "  Downloading https://files.pythonhosted.org/packages/04/a2/d918dcd22354d8958fe113e1a3630137e0fc8b44859ade3063982eacd2a4/idna-3.3-py3-none-any.whl (61kB)\n",
      "\u001b[K    100% |████████████████████████████████| 61kB 5.2MB/s eta 0:00:01\n",
      "\u001b[?25hCollecting certifi>=2017.4.17 (from requests)\n",
      "  Downloading https://files.pythonhosted.org/packages/37/45/946c02767aabb873146011e665728b680884cd8fe70dde973c640e45b775/certifi-2021.10.8-py2.py3-none-any.whl (149kB)\n",
      "\u001b[K    100% |████████████████████████████████| 153kB 4.7MB/s eta 0:00:01\n",
      "\u001b[?25hCollecting urllib3<1.27,>=1.21.1 (from requests)\n",
      "  Downloading https://files.pythonhosted.org/packages/af/f4/524415c0744552cce7d8bf3669af78e8a069514405ea4fcbd0cc44733744/urllib3-1.26.7-py2.py3-none-any.whl (138kB)\n",
      "\u001b[K    100% |████████████████████████████████| 143kB 7.2MB/s eta 0:00:01\n",
      "\u001b[?25hCollecting charset-normalizer~=2.0.0; python_version >= \"3\" (from requests)\n",
      "  Downloading https://files.pythonhosted.org/packages/de/c8/820b1546c68efcbbe3c1b10dd925fbd84a0dda7438bc18db0ef1fa567733/charset_normalizer-2.0.7-py3-none-any.whl\n",
      "Installing collected packages: idna, certifi, urllib3, charset-normalizer, requests\n",
      "\u001b[31mException:\n",
      "Traceback (most recent call last):\n",
      "  File \"/stornext/System/data/tools/websockify/websockify-0.9.0/lib64/python3.6/site-packages/pip/basecommand.py\", line 215, in main\n",
      "    status = self.run(options, args)\n",
      "  File \"/stornext/System/data/tools/websockify/websockify-0.9.0/lib64/python3.6/site-packages/pip/commands/install.py\", line 365, in run\n",
      "    strip_file_prefix=options.strip_file_prefix,\n",
      "  File \"/stornext/System/data/tools/websockify/websockify-0.9.0/lib64/python3.6/site-packages/pip/req/req_set.py\", line 789, in install\n",
      "    **kwargs\n",
      "  File \"/stornext/System/data/tools/websockify/websockify-0.9.0/lib64/python3.6/site-packages/pip/req/req_install.py\", line 854, in install\n",
      "    strip_file_prefix=strip_file_prefix\n",
      "  File \"/stornext/System/data/tools/websockify/websockify-0.9.0/lib64/python3.6/site-packages/pip/req/req_install.py\", line 1069, in move_wheel_files\n",
      "    strip_file_prefix=strip_file_prefix,\n",
      "  File \"/stornext/System/data/tools/websockify/websockify-0.9.0/lib64/python3.6/site-packages/pip/wheel.py\", line 345, in move_wheel_files\n",
      "    clobber(source, lib_dir, True)\n",
      "  File \"/stornext/System/data/tools/websockify/websockify-0.9.0/lib64/python3.6/site-packages/pip/wheel.py\", line 316, in clobber\n",
      "    ensure_dir(destdir)\n",
      "  File \"/stornext/System/data/tools/websockify/websockify-0.9.0/lib64/python3.6/site-packages/pip/utils/__init__.py\", line 83, in ensure_dir\n",
      "    os.makedirs(path)\n",
      "  File \"/usr/lib64/python3.6/os.py\", line 220, in makedirs\n",
      "    mkdir(name, mode)\n",
      "PermissionError: [Errno 13] Permission denied: '/stornext/System/data/tools/websockify/websockify-0.9.0/lib/python3.6/site-packages/idna'\u001b[0m\n"
     ]
    }
   ],
   "source": [
    "!pip install requests"
   ]
  },
  {
   "cell_type": "code",
   "execution_count": 22,
   "metadata": {},
   "outputs": [
    {
     "name": "stdout",
     "output_type": "stream",
     "text": [
      "Traceback (most recent call last):\r\n",
      "  File \"/home/users/allstaff/bollands.c/scratch/bollands.c/Malaria_downloads/enaBrowserTools-0.0.3/enaBrowserTools-0.0.3/python3/enaDataGet.py\", line 24, in <module>\r\n",
      "    import sequenceGet\r\n",
      "  File \"/stornext/HPCScratch/home/bollands.c/Malaria_downloads/enaBrowserTools-0.0.3/enaBrowserTools-0.0.3/python3/sequenceGet.py\", line 23, in <module>\r\n",
      "    import utils\r\n",
      "  File \"/stornext/HPCScratch/home/bollands.c/Malaria_downloads/enaBrowserTools-0.0.3/enaBrowserTools-0.0.3/python3/utils.py\", line 29, in <module>\r\n",
      "    import requests\r\n",
      "ModuleNotFoundError: No module named 'requests'\r\n"
     ]
    }
   ],
   "source": [
    "!python3 /home/users/allstaff/bollands.c/scratch/bollands.c/Malaria_downloads/enaBrowserTools-0.0.3/enaBrowserTools-0.0.3/python3/enaDataGet.py -h "
   ]
  },
  {
   "cell_type": "code",
   "execution_count": 28,
   "metadata": {
    "collapsed": true
   },
   "outputs": [
    {
     "data": {
      "text/plain": [
       "CompletedProcess(args=['python3', '/home/users/allstaff/bollands.c/scratch/bollands.c/Malaria_downloads/enaBrowserTools-0.0.3/enaBrowserTools-0.0.3/python3/enaDataGet.py', '-h'], returncode=1, stdout=b'', stderr=b'Traceback (most recent call last):\\n  File \"/home/users/allstaff/bollands.c/scratch/bollands.c/Malaria_downloads/enaBrowserTools-0.0.3/enaBrowserTools-0.0.3/python3/enaDataGet.py\", line 24, in <module>\\n    import sequenceGet\\n  File \"/stornext/HPCScratch/home/bollands.c/Malaria_downloads/enaBrowserTools-0.0.3/enaBrowserTools-0.0.3/python3/sequenceGet.py\", line 23, in <module>\\n    import utils\\n  File \"/stornext/HPCScratch/home/bollands.c/Malaria_downloads/enaBrowserTools-0.0.3/enaBrowserTools-0.0.3/python3/utils.py\", line 29, in <module>\\n    import requests\\nModuleNotFoundError: No module named \\'requests\\'\\n')"
      ]
     },
     "execution_count": 28,
     "metadata": {},
     "output_type": "execute_result"
    }
   ],
   "source": [
    "subprocess.run([\"python3\", address, \"-h\"], stdout=subprocess.PIPE,stderr=subprocess.PIPE) "
   ]
  },
  {
   "cell_type": "code",
   "execution_count": 1,
   "metadata": {
    "collapsed": true
   },
   "outputs": [
    {
     "name": "stdout",
     "output_type": "stream",
     "text": [
      "/stornext/System/data/tools/websockify/websockify-0.9.0/bin/python\r\n"
     ]
    }
   ],
   "source": [
    "!which python"
   ]
  },
  {
   "cell_type": "code",
   "execution_count": 32,
   "metadata": {
    "collapsed": true
   },
   "outputs": [
    {
     "name": "stdout",
     "output_type": "stream",
     "text": [
      "Python 3.6.8\r\n"
     ]
    }
   ],
   "source": [
    "!python3 --version"
   ]
  },
  {
   "cell_type": "code",
   "execution_count": 3,
   "metadata": {
    "collapsed": true
   },
   "outputs": [
    {
     "name": "stdout",
     "output_type": "stream",
     "text": [
      "created ERR1081237 folder\n"
     ]
    },
    {
     "data": {
      "text/plain": [
       "True"
      ]
     },
     "execution_count": 3,
     "metadata": {},
     "output_type": "execute_result"
    }
   ],
   "source": [
    "file_workflow('ERR1081237', '/vast/scratch/users/bollands.c/ERR_outputs')"
   ]
  },
  {
   "cell_type": "code",
   "execution_count": 6,
   "metadata": {},
   "outputs": [
    {
     "data": {
      "text/plain": [
       "os.stat_result(st_mode=16877, st_ino=468636854895890825, st_dev=42, st_nlink=2, st_uid=4417, st_gid=10908, st_size=4096, st_atime=1635740258, st_mtime=1635740258, st_ctime=1635740258)"
      ]
     },
     "execution_count": 6,
     "metadata": {},
     "output_type": "execute_result"
    }
   ],
   "source": [
    "os.stat('/vast/scratch/users/bollands.c/ERR_outputs')"
   ]
  },
  {
   "cell_type": "code",
   "execution_count": 5,
   "metadata": {},
   "outputs": [
    {
     "name": "stdout",
     "output_type": "stream",
     "text": [
      "[Errno 2] No such file or directory: '/vast/scratch/users/bollands.c/ERR_downloads'\n",
      "cannot remove past downloads\n",
      "[Errno 2] No such file or directory: '/vast/scratch/users/bollands.c/ERR_outputs'\n",
      "cannot remove outputs\n"
     ]
    }
   ],
   "source": [
    "clean_downloads_location('/vast/scratch/users/bollands.c/ERR_downloads')\n",
    "clean_logs('logs')\n",
    "clean_outputs('/vast/scratch/users/bollands.c/ERR_outputs')"
   ]
  },
  {
   "cell_type": "code",
   "execution_count": 5,
   "metadata": {},
   "outputs": [
    {
     "name": "stderr",
     "output_type": "stream",
     "text": [
      "Traceback (most recent call last):\n",
      "  File \"/home/users/allstaff/bollands.c/scratch/bollands.c/Malaria_downloads/enaBrowserTools-0.0.3/enaBrowserTools-0.0.3/python3/enaDataGet.py\", line 24, in <module>\n",
      "    import sequenceGet\n",
      "  File \"/stornext/HPCScratch/home/bollands.c/Malaria_downloads/enaBrowserTools-0.0.3/enaBrowserTools-0.0.3/python3/sequenceGet.py\", line 23, in <module>\n",
      "    import utils\n",
      "  File \"/stornext/HPCScratch/home/bollands.c/Malaria_downloads/enaBrowserTools-0.0.3/enaBrowserTools-0.0.3/python3/utils.py\", line 29, in <module>\n",
      "    import requests\n",
      "ModuleNotFoundError: No module named 'requests'\n"
     ]
    },
    {
     "data": {
      "text/plain": [
       "CompletedProcess(args=['python3', '/home/users/allstaff/bollands.c/scratch/bollands.c/Malaria_downloads/enaBrowserTools-0.0.3/enaBrowserTools-0.0.3/python3/enaDataGet.py', '-f', '{fastq}', '-m', 'ERR019040'], returncode=1)"
      ]
     },
     "execution_count": 5,
     "metadata": {},
     "output_type": "execute_result"
    }
   ],
   "source": [
    "url = 'ERR019040'\n",
    "\n",
    "subprocess.run([\"python3\", address, \"-f\", \"{fastq}\", \"-m\", url])"
   ]
  },
  {
   "cell_type": "code",
   "execution_count": 5,
   "metadata": {},
   "outputs": [],
   "source": [
    "### MD5 checking\n",
    "\n",
    "md5_1 = md5('ERR1081237/ERR1081237_1.fastq')\n",
    "md5_2 = md5('ERR1081237/ERR1081237_2.fastq')"
   ]
  },
  {
   "cell_type": "code",
   "execution_count": 6,
   "metadata": {},
   "outputs": [
    {
     "name": "stdout",
     "output_type": "stream",
     "text": [
      "1ef648205db5d9b571ff0cbede4cc5b0\n",
      "798f1262c99a927a9213792fe07936fb\n"
     ]
    }
   ],
   "source": [
    "print(md5_1)\n",
    "print(md5_2)"
   ]
  },
  {
   "cell_type": "code",
   "execution_count": 2,
   "metadata": {
    "scrolled": true
   },
   "outputs": [
    {
     "name": "stdout",
     "output_type": "stream",
     "text": [
      "ERR1081237/home/users/allstaff/bollands.c/scratch/bollands.c/Malaria_downloadsfastq_md5test.csvrun_accession\n",
      "['/home/users/allstaff/bollands.c/scratch/bollands.c/Malaria_downloads/ERR1081237/ERR1081237_1.fastq.gz', '/home/users/allstaff/bollands.c/scratch/bollands.c/Malaria_downloads/ERR1081237/ERR1081237_1_2.fastq.gz', '/home/users/allstaff/bollands.c/scratch/bollands.c/Malaria_downloads/ERR1081237/ERR1081237_2.fastq.gz']\n",
      "/home/users/allstaff/bollands.c/scratch/bollands.c/Malaria_downloads/ERR1081237/ERR1081237_1.fastq.gz\n",
      "ERR1081237 dir exists True\n",
      "0\n",
      "1ef648205db5d9b571ff0cbede4cc5b0\n",
      "798f1262c99a927a9213792fe07936fb\n",
      "1ef648205db5d9b571ff0cbede4cc5b0\n",
      "798f1262c99a927a9213792fe07936fb\n",
      "opened 1\n",
      "1ef648205db5d9b571ff0cbede4cc5b0good\n",
      "file and csv md5 the same\n"
     ]
    },
    {
     "ename": "NameError",
     "evalue": "name 'success_file' is not defined",
     "output_type": "error",
     "traceback": [
      "\u001b[0;31m---------------------------------------------------------------------------\u001b[0m",
      "\u001b[0;31mNameError\u001b[0m                                 Traceback (most recent call last)",
      "\u001b[0;32m/tmp/ipykernel_27819/2366715552.py\u001b[0m in \u001b[0;36m<module>\u001b[0;34m\u001b[0m\n\u001b[0;32m----> 1\u001b[0;31m \u001b[0mcheck_fastq_md5\u001b[0m\u001b[0;34m(\u001b[0m\u001b[0;34m'ERR1081237'\u001b[0m\u001b[0;34m,\u001b[0m \u001b[0;34m'/home/users/allstaff/bollands.c/scratch/bollands.c/Malaria_downloads'\u001b[0m\u001b[0;34m,\u001b[0m \u001b[0;34m'fastq_md5'\u001b[0m\u001b[0;34m,\u001b[0m \u001b[0;34m'test.csv'\u001b[0m\u001b[0;34m,\u001b[0m \u001b[0;34m'run_accession'\u001b[0m\u001b[0;34m)\u001b[0m\u001b[0;34m\u001b[0m\u001b[0;34m\u001b[0m\u001b[0m\n\u001b[0m",
      "\u001b[0;32m/stornext/HPCScratch/home/bollands.c/Malaria_downloads/Download.py\u001b[0m in \u001b[0;36mcheck_fastq_md5\u001b[0;34m(url, download_path, md5_column, ERRlist, code_column_name)\u001b[0m\n\u001b[1;32m    127\u001b[0m         \u001b[0;32mif\u001b[0m \u001b[0;34m(\u001b[0m\u001b[0mcompare\u001b[0m\u001b[0;34m(\u001b[0m\u001b[0mf_md5\u001b[0m\u001b[0;34m,\u001b[0m \u001b[0mmd51\u001b[0m\u001b[0;34m)\u001b[0m\u001b[0;34m)\u001b[0m\u001b[0;34m:\u001b[0m\u001b[0;34m\u001b[0m\u001b[0;34m\u001b[0m\u001b[0m\n\u001b[1;32m    128\u001b[0m             \u001b[0mprint\u001b[0m\u001b[0;34m(\u001b[0m\u001b[0;34m'file and csv md5 the same'\u001b[0m\u001b[0;34m)\u001b[0m\u001b[0;34m\u001b[0m\u001b[0;34m\u001b[0m\u001b[0m\n\u001b[0;32m--> 129\u001b[0;31m             \u001b[0msuccess_file\u001b[0m\u001b[0;34m.\u001b[0m\u001b[0mwrite\u001b[0m\u001b[0;34m(\u001b[0m\u001b[0;34mf'{url}_1 successfully downloaded and md5 checked\\n'\u001b[0m\u001b[0;34m)\u001b[0m\u001b[0;34m\u001b[0m\u001b[0;34m\u001b[0m\u001b[0m\n\u001b[0m\u001b[1;32m    130\u001b[0m             \u001b[0mone\u001b[0m \u001b[0;34m=\u001b[0m \u001b[0;32mTrue\u001b[0m\u001b[0;34m\u001b[0m\u001b[0;34m\u001b[0m\u001b[0m\n\u001b[1;32m    131\u001b[0m         \u001b[0;32melse\u001b[0m\u001b[0;34m:\u001b[0m \u001b[0mprint\u001b[0m\u001b[0;34m(\u001b[0m\u001b[0;34m'file and csv md5 NOT the same'\u001b[0m\u001b[0;34m)\u001b[0m\u001b[0;34m\u001b[0m\u001b[0;34m\u001b[0m\u001b[0m\n",
      "\u001b[0;31mNameError\u001b[0m: name 'success_file' is not defined"
     ]
    }
   ],
   "source": [
    "check_fastq_md5('ERR1081237', '/home/users/allstaff/bollands.c/scratch/bollands.c/Malaria_downloads', 'fastq_md5', 'test.csv', 'run_accession')"
   ]
  },
  {
   "cell_type": "code",
   "execution_count": 16,
   "metadata": {
    "scrolled": true
   },
   "outputs": [
    {
     "data": {
      "text/plain": [
       "'1ef648205db5d9b571ff0cbede4cc5b0'"
      ]
     },
     "execution_count": 16,
     "metadata": {},
     "output_type": "execute_result"
    }
   ],
   "source": [
    "fname = 'ERR1081237/ERR1081237_1.fastq.gz'\n",
    "\n",
    "def gzip_md5(fname):\n",
    "    hash_md5 = hashlib.md5()\n",
    "#     print(fname)\n",
    "    with gzip.open(fname, \"r\") as f:\n",
    "        fr = f.read()\n",
    "        hash_md5.update(fr)\n",
    "#     print(to_return)\n",
    "    return hash_md5.hexdigest()\n",
    "\n",
    "\n",
    "gzip_md5(fname)"
   ]
  },
  {
   "cell_type": "code",
   "execution_count": 2,
   "metadata": {},
   "outputs": [
    {
     "name": "stdout",
     "output_type": "stream",
     "text": [
      "['/home/users/allstaff/bollands.c/scratch/bollands.c/Malaria_downloads/ERR1081237/ERR1081237_1.fastq.gz', '/home/users/allstaff/bollands.c/scratch/bollands.c/Malaria_downloads/ERR1081237/ERR1081237_2.fastq.gz']\n",
      "/home/users/allstaff/bollands.c/scratch/bollands.c/Malaria_downloads/ERR1081237/ERR1081237_1.fastq.gz\n",
      "ERR1081237 dir exists True\n",
      "0\n",
      "1ef648205db5d9b571ff0cbede4cc5b0\n",
      "798f1262c99a927a9213792fe07936fb\n",
      "1ef648205db5d9b571ff0cbede4cc5b0\n",
      "798f1262c99a927a9213792fe07936fb\n",
      "opened 1\n",
      "1ef648205db5d9b571ff0cbede4cc5b0good\n",
      "file and csv md5 the same\n",
      "opened 2\n",
      "798f1262c99a927a9213792fe07936fbgood\n"
     ]
    },
    {
     "data": {
      "text/plain": [
       "True"
      ]
     },
     "execution_count": 2,
     "metadata": {},
     "output_type": "execute_result"
    }
   ],
   "source": [
    "check_fastq_md5('ERR1081237', '/home/users/allstaff/bollands.c/scratch/bollands.c/Malaria_downloads', 'fastq_md5', 'test.csv', 'run_accession', './logs')"
   ]
  },
  {
   "cell_type": "code",
   "execution_count": 3,
   "metadata": {},
   "outputs": [
    {
     "data": {
      "text/plain": [
       "CompletedProcess(args=['sbatch', 'hello_world.sh', '-W'], returncode=0, stdout=b'Submitted batch job 5080990\\n', stderr=b'')"
      ]
     },
     "execution_count": 3,
     "metadata": {},
     "output_type": "execute_result"
    }
   ],
   "source": [
    "subprocess.run([\"sbatch\", \"hello_world.sh\", \"-W\"], stdout=subprocess.PIPE,stderr=subprocess.PIPE) "
   ]
  },
  {
   "cell_type": "raw",
   "metadata": {},
   "source": [
    "!pwd"
   ]
  },
  {
   "cell_type": "code",
   "execution_count": 5,
   "metadata": {},
   "outputs": [
    {
     "name": "stdout",
     "output_type": "stream",
     "text": [
      "noice\n"
     ]
    }
   ],
   "source": [
    "process = subprocess.run([\"sbatch\", \"hello_world.sh\", \"-W\"], stdout=subprocess.PIPE,stderr=subprocess.PIPE) \n",
    "if process.returncode == 0:\n",
    "    print('noice')"
   ]
  },
  {
   "cell_type": "code",
   "execution_count": null,
   "metadata": {},
   "outputs": [],
   "source": []
  }
 ],
 "metadata": {
  "kernelspec": {
   "display_name": "new_CNV_downloading",
   "language": "python",
   "name": "cnv_downloading"
  },
  "language_info": {
   "codemirror_mode": {
    "name": "ipython",
    "version": 3
   },
   "file_extension": ".py",
   "mimetype": "text/x-python",
   "name": "python",
   "nbconvert_exporter": "python",
   "pygments_lexer": "ipython3",
   "version": "3.9.7"
  }
 },
 "nbformat": 4,
 "nbformat_minor": 4
}
